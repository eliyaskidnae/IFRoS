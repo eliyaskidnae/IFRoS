{
 "cells": [
  {
   "cell_type": "code",
   "execution_count": 24,
   "metadata": {},
   "outputs": [],
   "source": [
    "\n",
    "# import neccesry packges\n",
    "import numpy as np \n",
    "from matplotlib import pyplot as plt \n",
    "from PIL import Image \n",
    "from math import sqrt"
   ]
  },
  {
   "cell_type": "code",
   "execution_count": 25,
   "metadata": {},
   "outputs": [],
   "source": [
    "def is_onboard( position , map ):\n",
    "    if((position[0] >= 0 and position[1] >= 0) and position[0]<len(map) and position[1]<len(map)):\n",
    "        return True        \n",
    "    else:\n",
    "        return False   \n",
    "    \n",
    "def is_not_obstacle( position , map): # Checks a Position is obstacle or Not\n",
    "    if(map[position] == 1):\n",
    "        return False\n",
    "    return True\n",
    "\n",
    "def isValid( position , map): \n",
    "    if is_onboard(position , map ) and map[position] != 1 and  map[position] == 0 :\n",
    "        return True\n",
    "    return False\n",
    "\n",
    "def get_distance(post1 , post2): # returns a distance based the connectivity we select \n",
    "    distance =  sqrt((post1[0] - post2[0])**2 + (post1[1] -post2[1])**2)\n",
    "    return distance\n",
    "        \n",
    "def getX(path):# returns the row part of two dimensional array \n",
    "    x=[]       # we use this to draw path in a map\n",
    "    for p in path:\n",
    "        i,j = p\n",
    "        x.append(i) \n",
    "    return x \n",
    "def getY(path):  # returns the colomun part of two dimensional array \n",
    "    y=[]         # we use this to draw path in a map\n",
    "    for p in path:\n",
    "        i,j = p\n",
    "        y.append(j)\n",
    "    return y\n"
   ]
  },
  {
   "cell_type": "code",
   "execution_count": 39,
   "metadata": {},
   "outputs": [],
   "source": [
    "def A_Star(start,goal,map):\n",
    "\n",
    "    motions = [(0,-1),(-1, 0),(0, 1),(1, 0),(1,1),(-1,-1),(1,-1),(-1,1) ] # 8-point connectivity \n",
    "    #initialization\n",
    "    h_start = get_distance(start, goal) # huristic distnce the start node \n",
    "    g_distance = { start: 0 }  # distance from the start point to the child node\n",
    "    f_distance = {start:h_start} # total distance calculated \n",
    "    open_list =  {start : h_start }\n",
    "    closed_list = {start:0}\n",
    "    parent_list = { start : start }\n",
    "    \n",
    "    \n",
    "    # do until the closed list is empty\n",
    "    while  len(open_list): \n",
    "        current_position = list(open_list)[0]   # get the first node from the listed o-list \n",
    "        open_list.pop(current_position) # remove from the sorted openlist \n",
    "        closed_list[current_position] = parent_list[current_position]   # add to the closed-list the one in the top of the open list\n",
    "        # found the goal\n",
    "        if(current_position == goal): # if goal is found return \n",
    "            print(\"goal found\",current_position)\n",
    "            break\n",
    "                \n",
    "        np.random.shuffle(motions)  \n",
    "        # look for the children node      \n",
    "        for m in motions:  \n",
    "            successor_position = (current_position[0]+m[0] , current_position[1]+m[1])\n",
    "            g = g_distance[current_position] + get_distance(successor_position,current_position)\n",
    "            h = get_distance(successor_position, goal) # get the huristic distnace from the child node to the goal \n",
    "            f = g + h   \n",
    "            \n",
    "            if(isValid(successor_position, grid_map)): \n",
    "                if(open_list.get(successor_position) and open_list.get(successor_position) < f ):\n",
    "                    # if node is already in the open list with small distance ignore it\n",
    "                    continue\n",
    "                if(closed_list.get(successor_position) ):\n",
    "                    # if node is already in the closed list ignore it\n",
    "                    continue \n",
    "                else:     \n",
    "                    ## update the closed and open list              \n",
    "                    g_distance[successor_position] = g\n",
    "                    f_distance[successor_position] = f\n",
    "                    open_list[successor_position] = f\n",
    "                    parent_list[successor_position] = current_position\n",
    "                    \n",
    "        open_list = dict(sorted(open_list.items(), key=lambda open_list: open_list[1])) # sort open postion by thier value        \n",
    "       \n",
    "       \n",
    "    ## Searching the path from start to the goal using closed list    \n",
    "    path = [goal]\n",
    "    curre_node = goal\n",
    "    while curre_node != start:\n",
    "        curre_node = closed_list[curre_node]\n",
    "        path.append(curre_node)\n",
    "    path = path[::-1]\n",
    "    \n",
    "    return path,f_distance[goal]\n"
   ]
  },
  {
   "cell_type": "code",
   "execution_count": 47,
   "metadata": {},
   "outputs": [
    {
     "name": "stdout",
     "output_type": "stream",
     "text": [
      "goal found (90, 70)\n",
      "path_distance: 133.5807358037434\n",
      "path: [(10, 10), (10, 11), (10, 12), (10, 13), (10, 14), (10, 15), (10, 16), (10, 17), (10, 18), (10, 19), (10, 20), (10, 21), (10, 22), (10, 23), (10, 24), (10, 25), (10, 26), (10, 27), (10, 28), (10, 29), (10, 30), (10, 31), (10, 32), (11, 33), (12, 34), (13, 35), (14, 36), (15, 37), (16, 38), (17, 39), (18, 40), (19, 41), (20, 42), (21, 43), (22, 44), (23, 45), (24, 46), (25, 47), (26, 48), (27, 49), (28, 50), (29, 51), (30, 52), (31, 53), (32, 54), (33, 55), (34, 56), (35, 57), (36, 58), (37, 59), (38, 60), (39, 61), (40, 62), (41, 63), (42, 64), (43, 65), (44, 66), (45, 67), (46, 68), (47, 69), (48, 70), (49, 71), (50, 72), (51, 73), (52, 74), (53, 75), (54, 76), (55, 77), (56, 78), (57, 79), (58, 80), (59, 81), (60, 82), (61, 83), (62, 84), (63, 85), (64, 86), (65, 87), (66, 87), (67, 87), (68, 87), (69, 87), (70, 87), (71, 87), (72, 87), (73, 87), (74, 87), (75, 87), (76, 87), (77, 86), (78, 85), (79, 84), (80, 83), (81, 82), (82, 81), (83, 80), (84, 79), (85, 78), (86, 77), (87, 76), (88, 75), (89, 74), (90, 73), (90, 72), (90, 71), (90, 70)]\n"
     ]
    },
    {
     "data": {
      "image/png": "[encoded data removed]",
      "text/plain": [
       "<Figure size 480x480 with 1 Axes>"
      ]
     },
     "metadata": {},
     "output_type": "display_data"
    }
   ],
   "source": [
    "def main():\n",
    "    \n",
    "    # Load grid map \n",
    "    image = Image.open('map0.png').convert('L')\n",
    "    grid_map = np.array(image.getdata()).reshape(image.size[0], image.size[1])/255 \n",
    "    # binarize the image \n",
    "    grid_map[grid_map > 0.5] = 1\n",
    "    grid_map[grid_map <= 0.5] = 0 \n",
    "    # Invert colors to make 0 -> free and 1 -> occupied \n",
    "    grid_map = (grid_map * -1) + 1 # Show grid map \n",
    "    start = (10,10)\n",
    "    goal = (90,70)\n",
    "    path,path_distance = A_Star(start,goal,grid_map)\n",
    "\n",
    "    print(\"path_distance:\",path_distance)\n",
    "    print(\"path:\",path)\n",
    "    plt.matshow(grid_map) \n",
    "    plt.plot(getY(path),getX(path),color='red')\n",
    "    plt.show()\n",
    "main()"
   ]
  }
 ],
 "metadata": {
  "kernelspec": {
   "display_name": "Python 3",
   "language": "python",
   "name": "python3"
  },
  "language_info": {
   "codemirror_mode": {
    "name": "ipython",
    "version": 3
   },
   "file_extension": ".py",
   "mimetype": "text/x-python",
   "name": "python",
   "nbconvert_exporter": "python",
   "pygments_lexer": "ipython3",
   "version": "3.10.0"
  }
 },
 "nbformat": 4,
 "nbformat_minor": 2
}
